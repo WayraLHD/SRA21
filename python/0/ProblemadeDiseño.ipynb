{
 "cells": [
  {
   "cell_type": "code",
   "execution_count": 1,
   "id": "desperate-chicago",
   "metadata": {},
   "outputs": [],
   "source": [
    "import numpy as np  #Importa libreria numerica \n",
    "import sympy as sym #simbolica\n",
    "import matplotlib.pyplot as plt #importa matplotlib solo pyplot\n",
    "import matplotlib.image as mpimg \n",
    "\n",
    "from sympy.plotting import plot  #para plotear 2 variables\n",
    "from sympy.plotting import plot3d  # para 3\n",
    "from sympy.plotting import plot3d_parametric_surface\n",
    "\n",
    "from IPython.display import Image #para importar y mostrar en jupyter imagenes\n",
    "\n",
    "import ipympl  #Para importar gestor de imagenes en jupyter (INSTALAR SUDO PIP3.8 install ipympl\n",
    "\n",
    "sym.init_printing() #activa a jupyter para mostrar simbolicamente el output\n",
    "%matplotlib widget \n",
    "#%matplotlib inline\n",
    "#activa la configuracion de imagenes\n"
   ]
  },
  {
   "cell_type": "code",
   "execution_count": 2,
   "id": "stainless-jersey",
   "metadata": {},
   "outputs": [
    {
     "data": {
      "application/vnd.jupyter.widget-view+json": {
       "model_id": "5f36df67c71b4882b3b29006590d9d66",
       "version_major": 2,
       "version_minor": 0
      },
      "text/plain": [
       "Canvas(toolbar=Toolbar(toolitems=[('Home', 'Reset original view', 'home', 'home'), ('Back', 'Back to previous …"
      ]
     },
     "metadata": {},
     "output_type": "display_data"
    },
    {
     "data": {
      "image/png": "[encoded data removed]",
      "text/plain": [
       "<IPython.core.display.Image object>"
      ]
     },
     "execution_count": 2,
     "metadata": {},
     "output_type": "execute_result"
    }
   ],
   "source": [
    "# Problema de diseño: Circtuitos Eléctricos Dorf-Svoboda P5.4\n",
    "# El circuito que se muestra en la figura tiene cuatros parámetros de circuitos\n",
    "# no especificados: Vs R1 R2 d\n",
    "# Para diseñar este circuito\n",
    "# debemos especificar los valores de estos cuatro parámetros.\n",
    "# la gráfica que se muestra describe una relación entre Io y Vo\n",
    "\n",
    "\n",
    "esq= mpimg.imread('Lineal.png') #sube la imagen del circuito esq.\n",
    "plt.imshow(esq)\n",
    "plt.show()\n",
    "\n",
    "Image(filename='Recta.png')  #Muestra la imagen"
   ]
  },
  {
   "cell_type": "code",
   "execution_count": 15,
   "id": "floating-bearing",
   "metadata": {},
   "outputs": [
    {
     "data": {
      "image/png": "[encoded data removed]",
      "text/latex": [
       "$\\displaystyle \\left\\{\\left( 625.0, \\  -5.0\\right)\\right\\}$"
      ],
      "text/plain": [
       "{(625.0, -5.0)}"
      ]
     },
     "metadata": {},
     "output_type": "display_data"
    },
    {
     "name": "stdout",
     "output_type": "stream",
     "text": [
      "Variable:  FiniteSet((625.0, -5.0))  y el Tipo:  <class 'sympy.sets.sets.FiniteSet'>\n"
     ]
    },
    {
     "data": {
      "image/png": "[encoded data removed]",
      "text/latex": [
       "$\\displaystyle \\left[ 625.0, \\  -5.0\\right]$"
      ],
      "text/plain": [
       "[625.0, -5.0]"
      ]
     },
     "metadata": {},
     "output_type": "display_data"
    },
    {
     "data": {
      "text/plain": [
       "array([625.000000000000, -5.00000000000000], dtype=object)"
      ]
     },
     "metadata": {},
     "output_type": "display_data"
    }
   ],
   "source": [
    "#Primero hay que determinar la función lineal de la recta\n",
    "# y = m * x + a\n",
    "\n",
    "# Ec. Lineal:  y = m*x + a   ->   Vo = Rth * Io + Vth    \n",
    "sym.var('m, a') #Define variables simbolicas.\n",
    "(x0,y0)=(8e-3,0)\n",
    "(x1,y1)=(0,-5)\n",
    "res=sym.linsolve( [ m * x0 + a - y0,  #1ra ec. \n",
    "                    m * x1 + a - y1 ], #2da\n",
    "                 (m,a)  #se indica que variables calcula\n",
    "                ) \n",
    "#resuelve 2 ec\n",
    "#res \n",
    "display(res)\n",
    "print(\"Variable: \",res,\" y el Tipo: \",type(res))\n",
    "[Rth,Vt]=sym.Matrix((res.args[0][0],res.args[0][1]))\n",
    "display([Rth,Vt])\n",
    "Matrix=np.array([Rth,Vt])\n",
    "display(Matrix)"
   ]
  },
  {
   "cell_type": "code",
   "execution_count": 4,
   "id": "compressed-utilization",
   "metadata": {},
   "outputs": [
    {
     "data": {
      "image/png": "[encoded data removed]",
      "text/latex": [
       "$\\displaystyle 625.0 Io - 5.0$"
      ],
      "text/plain": [
       "625.0⋅Io - 5.0"
      ]
     },
     "metadata": {},
     "output_type": "display_data"
    },
    {
     "data": {
      "application/vnd.jupyter.widget-view+json": {
       "model_id": "7ca477702e8c45e990e8954639eede5f",
       "version_major": 2,
       "version_minor": 0
      },
      "text/plain": [
       "Canvas(toolbar=Toolbar(toolitems=[('Home', 'Reset original view', 'home', 'home'), ('Back', 'Back to previous …"
      ]
     },
     "metadata": {},
     "output_type": "display_data"
    }
   ],
   "source": [
    "# Se verifica graficando Vo = Rth * Io + Vth remplazando por los valores encontrados\n",
    "# Para graficar se usa el metodo sym.plot\n",
    "sym.var(\"Io,Vo\")\n",
    "Vo=Rth*Io+Vt\n",
    "display(Vo)\n",
    "plt_0=sym.plot(Vo,(Io,-1e-3,10e-3)) #Grafica Vo vs Io para algunos valores de Io"
   ]
  },
  {
   "cell_type": "code",
   "execution_count": 5,
   "id": "advanced-mouse",
   "metadata": {},
   "outputs": [
    {
     "data": {
      "image/png": "[encoded data removed]",
      "text/plain": [
       "<IPython.core.display.Image object>"
      ]
     },
     "execution_count": 5,
     "metadata": {},
     "output_type": "execute_result"
    }
   ],
   "source": [
    "# Para resolver el circuito y encontrar su equivalente Thevenin\n",
    "# Hay que encontrar Vth y Rth.\n",
    "# \n",
    "# El metodo LKV para encontrar In en el Circuito cuando Vo=0\n",
    "# El metodo LKC para encontrar Vth en el Circuito cuando Io=0\n",
    "# Rth = Vth / In\n",
    "Image(filename='Thevenin.png')#Muestra el circuito para encontrar Vth"
   ]
  },
  {
   "cell_type": "code",
   "execution_count": 6,
   "id": "imported-buffalo",
   "metadata": {},
   "outputs": [
    {
     "data": {
      "text/latex": [
       "$\\displaystyle \\left[\\begin{matrix}Va\\\\Vb\\end{matrix}\\right]$"
      ],
      "text/plain": [
       "⎡Va⎤\n",
       "⎢  ⎥\n",
       "⎣Vb⎦"
      ]
     },
     "metadata": {},
     "output_type": "display_data"
    }
   ],
   "source": [
    "#Thevenin : APLICAR LKC [I]=[G]*[V]\n",
    "Va, Vb= sym.symbols('Va, Vb') #Define los nodos (simbolic)\n",
    "Vm = sym.Matrix(([Va],[Vb])) #Define la matriz (simb)\n",
    "display(Vm)"
   ]
  },
  {
   "cell_type": "code",
   "execution_count": 7,
   "id": "impressive-blake",
   "metadata": {},
   "outputs": [
    {
     "data": {
      "text/latex": [
       "$\\displaystyle \\left[\\begin{matrix}1 & 0\\\\- \\frac{1}{R_{1}} & \\frac{1}{R_{2}} + \\frac{1}{R_{1}}\\end{matrix}\\right]$"
      ],
      "text/plain": [
       "⎡ 1      0   ⎤\n",
       "⎢            ⎥\n",
       "⎢-1   1    1 ⎥\n",
       "⎢───  ── + ──⎥\n",
       "⎣ R₁  R₂   R₁⎦"
      ]
     },
     "metadata": {},
     "output_type": "display_data"
    }
   ],
   "source": [
    "R1, R2 = sym.symbols('R1, R2') #Defino la matriz GG \n",
    "\n",
    "GG = sym.Matrix(( [1, 0] ,\n",
    "                  [-1/R1, 1/R1+1/R2]\n",
    "                 ))\n",
    "display(GG)"
   ]
  },
  {
   "cell_type": "code",
   "execution_count": 8,
   "id": "dimensional-november",
   "metadata": {},
   "outputs": [
    {
     "data": {
      "text/latex": [
       "$\\displaystyle \\left[\\begin{matrix}Vs\\\\\\frac{b \\left(Va - Vb\\right)}{R_{1}}\\end{matrix}\\right]$"
      ],
      "text/plain": [
       "⎡    Vs     ⎤\n",
       "⎢           ⎥\n",
       "⎢b⋅(Va - Vb)⎥\n",
       "⎢───────────⎥\n",
       "⎣     R₁    ⎦"
      ]
     },
     "metadata": {},
     "output_type": "display_data"
    }
   ],
   "source": [
    "b, Vs = sym.symbols('b, Vs') #Defino la matriz I \n",
    "\n",
    "II=sym.Matrix(([Vs],\n",
    "               [(b/R1)*(Va-Vb)]\n",
    "              ))\n",
    "display(II)"
   ]
  },
  {
   "cell_type": "code",
   "execution_count": 9,
   "id": "detected-syndrome",
   "metadata": {},
   "outputs": [
    {
     "data": {
      "text/latex": [
       "$\\displaystyle \\left[\\begin{matrix}Vs\\\\\\frac{b \\left(Va - Vb\\right)}{R_{1}}\\end{matrix}\\right] = \\left[\\begin{matrix}Va\\\\Vb \\left(\\frac{1}{R_{2}} + \\frac{1}{R_{1}}\\right) - \\frac{Va}{R_{1}}\\end{matrix}\\right]$"
      ],
      "text/plain": [
       "⎡    Vs     ⎤   ⎡       Va        ⎤\n",
       "⎢           ⎥   ⎢                 ⎥\n",
       "⎢b⋅(Va - Vb)⎥ = ⎢   ⎛1    1 ⎞   Va⎥\n",
       "⎢───────────⎥   ⎢Vb⋅⎜── + ──⎟ - ──⎥\n",
       "⎣     R₁    ⎦   ⎣   ⎝R₂   R₁⎠   R₁⎦"
      ]
     },
     "metadata": {},
     "output_type": "display_data"
    },
    {
     "data": {
      "image/png": "[encoded data removed]",
      "text/latex": [
       "$\\displaystyle \\left\\{ Va : Vs, \\  Vb : \\frac{R_{2} Vs b + R_{2} Vs}{R_{1} + R_{2} b + R_{2}}\\right\\}$"
      ],
      "text/plain": [
       "⎧            R₂⋅Vs⋅b + R₂⋅Vs⎫\n",
       "⎨Va: Vs, Vb: ───────────────⎬\n",
       "⎩             R₁ + R₂⋅b + R₂⎭"
      ]
     },
     "metadata": {},
     "output_type": "display_data"
    },
    {
     "data": {
      "image/png": "[encoded data removed]",
      "text/latex": [
       "$\\displaystyle Vth = \\frac{R_{2} Vs b + R_{2} Vs}{R_{1} + R_{2} b + R_{2}}$"
      ],
      "text/plain": [
       "      R₂⋅Vs⋅b + R₂⋅Vs\n",
       "Vth = ───────────────\n",
       "       R₁ + R₂⋅b + R₂"
      ]
     },
     "metadata": {},
     "output_type": "display_data"
    }
   ],
   "source": [
    "ec=sym.Eq(II,GG*Vm)\n",
    "display(ec)\n",
    "Vres=sym.solve(ec,Vm) #Con la función de vuelve la solución de Eq resolviendo para Vm=[Va],[Vb]\n",
    "display(Vres)\n",
    "\n",
    "sym.var('Vth')\n",
    "display(sym.Eq(Vth,Vres[Vb]))"
   ]
  },
  {
   "cell_type": "code",
   "execution_count": 10,
   "id": "arbitrary-driver",
   "metadata": {},
   "outputs": [
    {
     "data": {
      "image/png": "[encoded data removed]",
      "text/plain": [
       "<IPython.core.display.Image object>"
      ]
     },
     "execution_count": 10,
     "metadata": {},
     "output_type": "execute_result"
    }
   ],
   "source": [
    "Image(filename='Norton.png')#Muestra el circuito para encontrar In\n"
   ]
  },
  {
   "cell_type": "code",
   "execution_count": 11,
   "id": "double-mistake",
   "metadata": {},
   "outputs": [
    {
     "data": {
      "text/latex": [
       "$\\displaystyle \\left[\\begin{matrix}Vs\\\\I_{0} b\\\\0\\end{matrix}\\right] = \\left[\\begin{matrix}I_{0} R_{1} + I_{1} R_{2} - I_{2} R_{2}\\\\- I_{0} + I_{1}\\\\I_{1} R_{2} - I_{2} R_{2}\\end{matrix}\\right]$"
      ],
      "text/plain": [
       "⎡ Vs ⎤   ⎡I₀⋅R₁ + I₁⋅R₂ - I₂⋅R₂⎤\n",
       "⎢    ⎥   ⎢                     ⎥\n",
       "⎢I₀⋅b⎥ = ⎢      -I₀ + I₁       ⎥\n",
       "⎢    ⎥   ⎢                     ⎥\n",
       "⎣ 0  ⎦   ⎣    I₁⋅R₂ - I₂⋅R₂    ⎦"
      ]
     },
     "metadata": {},
     "output_type": "display_data"
    },
    {
     "data": {
      "text/latex": [
       "$\\displaystyle \\left[\\begin{matrix}Vs\\\\0\\\\0\\end{matrix}\\right] = \\left[\\begin{matrix}I_{0} R_{1} + I_{1} R_{2} - I_{2} R_{2}\\\\I_{0} \\left(- b - 1\\right) + I_{1}\\\\I_{1} R_{2} - I_{2} R_{2}\\end{matrix}\\right]$"
      ],
      "text/plain": [
       "⎡Vs⎤   ⎡I₀⋅R₁ + I₁⋅R₂ - I₂⋅R₂⎤\n",
       "⎢  ⎥   ⎢                     ⎥\n",
       "⎢0 ⎥ = ⎢  I₀⋅(-b - 1) + I₁   ⎥\n",
       "⎢  ⎥   ⎢                     ⎥\n",
       "⎣0 ⎦   ⎣    I₁⋅R₂ - I₂⋅R₂    ⎦"
      ]
     },
     "metadata": {},
     "output_type": "display_data"
    },
    {
     "data": {
      "text/latex": [
       "$\\displaystyle \\left[\\begin{matrix}\\frac{Vs}{R_{1}}\\\\\\frac{Vs \\left(b + 1\\right)}{R_{1}}\\\\Vs \\left(\\frac{b}{R_{1}} + \\frac{1}{R_{1}}\\right)\\end{matrix}\\right]$"
      ],
      "text/plain": [
       "⎡     Vs     ⎤\n",
       "⎢     ──     ⎥\n",
       "⎢     R₁     ⎥\n",
       "⎢            ⎥\n",
       "⎢ Vs⋅(b + 1) ⎥\n",
       "⎢ ────────── ⎥\n",
       "⎢     R₁     ⎥\n",
       "⎢            ⎥\n",
       "⎢   ⎛b    1 ⎞⎥\n",
       "⎢Vs⋅⎜── + ──⎟⎥\n",
       "⎣   ⎝R₁   R₁⎠⎦"
      ]
     },
     "metadata": {},
     "output_type": "display_data"
    },
    {
     "data": {
      "image/png": "[encoded data removed]",
      "text/latex": [
       "$\\displaystyle In = \\frac{Vs \\left(b + 1\\right)}{R_{1}}$"
      ],
      "text/plain": [
       "     Vs⋅(b + 1)\n",
       "In = ──────────\n",
       "         R₁    "
      ]
     },
     "metadata": {},
     "output_type": "display_data"
    }
   ],
   "source": [
    "sym.var('I0, I1, I2') \n",
    "#  Vs = I0 * R1 + I1 * R2 - I2 * R2 ;\n",
    "#  b*I0 = I1-I0   \n",
    "#  0 = R2*I1 - R2*I2\n",
    "\n",
    "II=sym.Matrix(([I0],[I1],[I2]))\n",
    "VV=sym.Matrix(([Vs],[b*I0],[0]))\n",
    "RR=sym.Matrix(([R1,R2,-R2],[-1, 1, 0],[0,R2,-R2]))\n",
    "display(sym.Eq(VV,RR*II))\n",
    "VV=sym.Matrix(([Vs],[0],[0]))\n",
    "RR=sym.Matrix(([R1,R2,-R2],[-(1+b), 1, 0],[0,R2,-R2]))\n",
    "display(sym.Eq(VV,RR*II))\n",
    "Ires=sym.Matrix(RR**-1*VV)\n",
    "display(Ires)\n",
    "\n",
    "sym.var('In')\n",
    "display(sym.Eq(In,sym.simplify(Ires[2])))"
   ]
  },
  {
   "cell_type": "code",
   "execution_count": 12,
   "id": "helpful-productivity",
   "metadata": {},
   "outputs": [
    {
     "data": {
      "image/png": "[encoded data removed]",
      "text/latex": [
       "$\\displaystyle Vth = \\frac{R_{2} Vs b + R_{2} Vs}{R_{1} + R_{2} b + R_{2}}$"
      ],
      "text/plain": [
       "      R₂⋅Vs⋅b + R₂⋅Vs\n",
       "Vth = ───────────────\n",
       "       R₁ + R₂⋅b + R₂"
      ]
     },
     "metadata": {},
     "output_type": "display_data"
    },
    {
     "data": {
      "image/png": "[encoded data removed]",
      "text/latex": [
       "$\\displaystyle Rt = \\frac{R_{1} R_{2}}{R_{1} + R_{2} b + R_{2}}$"
      ],
      "text/plain": [
       "         R₁⋅R₂     \n",
       "Rt = ──────────────\n",
       "     R₁ + R₂⋅b + R₂"
      ]
     },
     "metadata": {},
     "output_type": "display_data"
    },
    {
     "data": {
      "image/png": "[encoded data removed]",
      "text/latex": [
       "$\\displaystyle \\frac{R_{1} R_{2}}{R_{1} + R_{2} b + R_{2}}$"
      ],
      "text/plain": [
       "    R₁⋅R₂     \n",
       "──────────────\n",
       "R₁ + R₂⋅b + R₂"
      ]
     },
     "execution_count": 12,
     "metadata": {},
     "output_type": "execute_result"
    }
   ],
   "source": [
    "#La resistencia de Thevenin es Vth/In\n",
    "In=sym.simplify(Ires[2])\n",
    "sym.var('Vth')\n",
    "display(sym.Eq(Vth,Vres[Vb]))\n",
    "Vth=sym.simplify(Vres[Vb])\n",
    "sym.var('Rt')\n",
    "display(sym.Eq(Rt,Vth/In))\n",
    "Rt=sym.factor(Vth/In)\n",
    "Rt"
   ]
  },
  {
   "cell_type": "code",
   "execution_count": 13,
   "id": "consistent-implement",
   "metadata": {},
   "outputs": [
    {
     "data": {
      "image/png": "[encoded data removed]",
      "text/latex": [
       "$\\displaystyle \\left\\{ R_{1} : \\frac{625.0 R_{2} \\left(b + 1.0\\right)}{R_{2} - 625.0}\\right\\}$"
      ],
      "text/plain": [
       "⎧    625.0⋅R₂⋅(b + 1.0)⎫\n",
       "⎨R₁: ──────────────────⎬\n",
       "⎩        R₂ - 625.0    ⎭"
      ]
     },
     "metadata": {},
     "output_type": "display_data"
    },
    {
     "data": {
      "application/vnd.jupyter.widget-view+json": {
       "model_id": "082b7061aa054520bc4bbd87e9175106",
       "version_major": 2,
       "version_minor": 0
      },
      "text/plain": [
       "Canvas(toolbar=Toolbar(toolitems=[('Home', 'Reset original view', 'home', 'home'), ('Back', 'Back to previous …"
      ]
     },
     "metadata": {},
     "output_type": "display_data"
    },
    {
     "data": {
      "application/vnd.jupyter.widget-view+json": {
       "model_id": "e1ddf73cb7b443cf9d9de4e952bf69f2",
       "version_major": 2,
       "version_minor": 0
      },
      "text/plain": [
       "Canvas(toolbar=Toolbar(toolitems=[('Home', 'Reset original view', 'home', 'home'), ('Back', 'Back to previous …"
      ]
     },
     "metadata": {},
     "output_type": "display_data"
    },
    {
     "data": {
      "text/plain": [
       "<sympy.plotting.plot.Plot at 0x7fdeb7939100>"
      ]
     },
     "execution_count": 13,
     "metadata": {},
     "output_type": "execute_result"
    }
   ],
   "source": [
    "sym.var('R1')\n",
    "display((sym.solve([Rth-Rt],R1)))\n",
    "R1=sym.solve([Rth-Rt],R1)[R1]\n",
    "plot3d(R1, (b, -10,10),(R2, 1,500),zlabel\n",
    "       =\"R1\",xlabel=\"b\", ylabel=\"R2\")\n",
    "plot3d_parametric_surface(R1, R2, b ,(b, -10,10),(R2, 1,500),zlabel=\"b\",xlabel=\"R1\", ylabel=\"R2\")"
   ]
  },
  {
   "cell_type": "code",
   "execution_count": 14,
   "id": "nonprofit-phenomenon",
   "metadata": {},
   "outputs": [
    {
     "data": {
      "image/png": "[encoded data removed]",
      "text/latex": [
       "$\\displaystyle \\left\\{ Vs : \\frac{- 5.0 R_{1} - 5.0 R_{2} b - 5.0 R_{2}}{R_{2} b + R_{2}}\\right\\}$"
      ],
      "text/plain": [
       "⎧    -5.0⋅R₁ - 5.0⋅R₂⋅b - 5.0⋅R₂⎫\n",
       "⎨Vs: ───────────────────────────⎬\n",
       "⎩             R₂⋅b + R₂         ⎭"
      ]
     },
     "metadata": {},
     "output_type": "display_data"
    },
    {
     "data": {
      "image/png": "[encoded data removed]",
      "text/latex": [
       "$\\displaystyle \\frac{625.0 R_{2} \\left(b + 1.0\\right)}{R_{2} - 625.0}$"
      ],
      "text/plain": [
       "625.0⋅R₂⋅(b + 1.0)\n",
       "──────────────────\n",
       "    R₂ - 625.0    "
      ]
     },
     "metadata": {},
     "output_type": "display_data"
    },
    {
     "data": {
      "application/vnd.jupyter.widget-view+json": {
       "model_id": "976cca17111f47d78c53497b790ae0c9",
       "version_major": 2,
       "version_minor": 0
      },
      "text/plain": [
       "Canvas(toolbar=Toolbar(toolitems=[('Home', 'Reset original view', 'home', 'home'), ('Back', 'Back to previous …"
      ]
     },
     "metadata": {},
     "output_type": "display_data"
    },
    {
     "data": {
      "application/vnd.jupyter.widget-view+json": {
       "model_id": "4e170363c00b4bfc9e65e320a514ac80",
       "version_major": 2,
       "version_minor": 0
      },
      "text/plain": [
       "Canvas(toolbar=Toolbar(toolitems=[('Home', 'Reset original view', 'home', 'home'), ('Back', 'Back to previous …"
      ]
     },
     "metadata": {},
     "output_type": "display_data"
    },
    {
     "data": {
      "text/plain": [
       "<sympy.plotting.plot.Plot at 0x7fdeb7687e80>"
      ]
     },
     "execution_count": 14,
     "metadata": {},
     "output_type": "execute_result"
    }
   ],
   "source": [
    "sym.var('Vs, R1')\n",
    "display((sym.solve([Vth-Vt],Vs)))\n",
    "Vs=sym.solve([Vth-Vt],Vs)[Vs]\n",
    "RR1=sym.solve([Rth-Rt],R1)[R1]\n",
    "display(RR1)\n",
    "plot3d(Vs.subs(R1,RR1), (b, -10,10),(R2, 1,500),zlabel=\"Vs\",xlabel=\"b\", ylabel=\"R2\")\n",
    "plot3d_parametric_surface((Vs.subs(R1,RR1))**2, R2, b ,(b, -10,10),(R2, 1,500),zlabel=\"b\",xlabel=\"Vs\", ylabel=\"R2\")\n"
   ]
  },
  {
   "cell_type": "code",
   "execution_count": null,
   "id": "adjacent-tokyo",
   "metadata": {},
   "outputs": [],
   "source": []
  }
 ],
 "metadata": {
  "kernelspec": {
   "display_name": "Python 3",
   "language": "python",
   "name": "python3"
  },
  "language_info": {
   "codemirror_mode": {
    "name": "ipython",
    "version": 3
   },
   "file_extension": ".py",
   "mimetype": "text/x-python",
   "name": "python",
   "nbconvert_exporter": "python",
   "pygments_lexer": "ipython3",
   "version": "3.8.2"
  }
 },
 "nbformat": 4,
 "nbformat_minor": 5
}
