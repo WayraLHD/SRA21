{
 "cells": [
  {
   "cell_type": "code",
   "execution_count": 1,
   "id": "organic-coverage",
   "metadata": {},
   "outputs": [],
   "source": [
    "import pla"
   ]
  },
  {
   "cell_type": "code",
   "execution_count": 2,
   "id": "caring-equity",
   "metadata": {},
   "outputs": [
    {
     "name": "stdout",
     "output_type": "stream",
     "text": [
      "iniciando: {}\n"
     ]
    }
   ],
   "source": [
    "primerajunta=pla.planilla()"
   ]
  },
  {
   "cell_type": "code",
   "execution_count": 3,
   "id": "negative-french",
   "metadata": {},
   "outputs": [
    {
     "name": "stdin",
     "output_type": "stream",
     "text": [
      "nombre A\n"
     ]
    },
    {
     "name": "stdout",
     "output_type": "stream",
     "text": [
      "{'Cornelio Saavedra ': ['PRESI', 'presidente@primera.junta'], 'Mariano Moreno': ['MANO', '1erSecretario@primera.junta'], 'Juan José Paso': ['PASO', '2doSecretario@primera.junta'], 'Manuel Alberti': ['MANU', 'Vocal0@prinmera.junta'], 'Juan José Castelli': ['JOSE', 'Vocal0@prinmera.junta'], 'Juan Larrea': ['JUAN', 'Vocal1@prinmera.junta'], 'Domingo Matéu': ['DOM1', 'Vocal2@prinmera.junta']}\n"
     ]
    }
   ],
   "source": [
    "primerajunta.abrir_datos()"
   ]
  },
  {
   "cell_type": "code",
   "execution_count": 4,
   "id": "flexible-norman",
   "metadata": {},
   "outputs": [
    {
     "data": {
      "text/plain": [
       "['PRESI', 'MANO', 'PASO', 'MANU', 'JOSE', 'JUAN', 'DOM1']"
      ]
     },
     "execution_count": 4,
     "metadata": {},
     "output_type": "execute_result"
    }
   ],
   "source": [
    "primerajunta.crear_lista()"
   ]
  },
  {
   "cell_type": "code",
   "execution_count": 5,
   "id": "optimum-swimming",
   "metadata": {},
   "outputs": [
    {
     "data": {
      "text/plain": [
       "{'Grupo: 0': [['PASO', 'MANU', 'MANO', 'DOM1'],\n",
       "  ['2doSecretario@primera.junta',\n",
       "   'Vocal0@prinmera.junta',\n",
       "   '1erSecretario@primera.junta',\n",
       "   'Vocal2@prinmera.junta']],\n",
       " 'Grupo: 1': [['PRESI', 'JUAN', 'JOSE'],\n",
       "  ['presidente@primera.junta',\n",
       "   'Vocal1@prinmera.junta',\n",
       "   'Vocal0@prinmera.junta']]}"
      ]
     },
     "execution_count": 5,
     "metadata": {},
     "output_type": "execute_result"
    }
   ],
   "source": [
    "primerajunta.crear_grupo(2)"
   ]
  },
  {
   "cell_type": "code",
   "execution_count": 6,
   "id": "national-northern",
   "metadata": {},
   "outputs": [
    {
     "data": {
      "text/plain": [
       "{'Grupo: 0': [['PASO', 'MANU', 'MANO', 'DOM1'],\n",
       "  ['2doSecretario@primera.junta',\n",
       "   'Vocal0@prinmera.junta',\n",
       "   '1erSecretario@primera.junta',\n",
       "   'Vocal2@prinmera.junta']],\n",
       " 'Grupo: 1': [['PRESI', 'JUAN', 'JOSE'],\n",
       "  ['presidente@primera.junta',\n",
       "   'Vocal1@prinmera.junta',\n",
       "   'Vocal0@prinmera.junta']]}"
      ]
     },
     "execution_count": 6,
     "metadata": {},
     "output_type": "execute_result"
    }
   ],
   "source": [
    "primerajunta.Grupos_"
   ]
  },
  {
   "cell_type": "code",
   "execution_count": 7,
   "id": "loving-sustainability",
   "metadata": {},
   "outputs": [
    {
     "name": "stdout",
     "output_type": "stream",
     "text": [
      "2doSecretario@primera.junta, Vocal0@prinmera.junta, 1erSecretario@primera.junta, Vocal2@prinmera.junta\n"
     ]
    }
   ],
   "source": [
    "print(primerajunta.escribir_lista(primerajunta.Grupos_[\"Grupo: 0\"][1]))"
   ]
  },
  {
   "cell_type": "code",
   "execution_count": 8,
   "id": "union-soldier",
   "metadata": {},
   "outputs": [
    {
     "data": {
      "text/plain": [
       "['PRESI', 'MANO', 'PASO', 'MANU', 'JOSE', 'JUAN', 'DOM1']"
      ]
     },
     "execution_count": 8,
     "metadata": {},
     "output_type": "execute_result"
    }
   ],
   "source": [
    "primerajunta.crear_lista()"
   ]
  },
  {
   "cell_type": "code",
   "execution_count": 9,
   "id": "academic-credits",
   "metadata": {},
   "outputs": [
    {
     "data": {
      "text/plain": [
       "[['PRESI', 'MANO', 'PASO', 'MANU', 'JOSE', 'JUAN', 'DOM1'],\n",
       " 'JUAN',\n",
       " ['PRESI', 'MANO', 'PASO', 'MANU', 'JOSE', 'DOM1']]"
      ]
     },
     "execution_count": 9,
     "metadata": {},
     "output_type": "execute_result"
    }
   ],
   "source": [
    "primerajunta.llamar()"
   ]
  },
  {
   "cell_type": "code",
   "execution_count": 10,
   "id": "anonymous-tissue",
   "metadata": {},
   "outputs": [
    {
     "name": "stdout",
     "output_type": "stream",
     "text": [
      "Felicitaciónes JUAN  😀 ! \n"
     ]
    }
   ],
   "source": [
    "primerajunta.caritafeliz(\"06/08\")"
   ]
  },
  {
   "cell_type": "code",
   "execution_count": 11,
   "id": "rational-affair",
   "metadata": {},
   "outputs": [
    {
     "data": {
      "text/plain": [
       "[['PRESI', 'MANO', 'PASO', 'MANU', 'JOSE', 'DOM1'],\n",
       " 'MANO',\n",
       " ['PRESI', 'PASO', 'MANU', 'JOSE', 'DOM1']]"
      ]
     },
     "execution_count": 11,
     "metadata": {},
     "output_type": "execute_result"
    }
   ],
   "source": [
    "primerajunta.llamar()"
   ]
  },
  {
   "cell_type": "code",
   "execution_count": 12,
   "id": "impaired-usage",
   "metadata": {},
   "outputs": [
    {
     "name": "stdout",
     "output_type": "stream",
     "text": [
      "Felicitaciónes MANO  😀 ! \n"
     ]
    }
   ],
   "source": [
    "primerajunta.caritafeliz(\"06/08\")"
   ]
  },
  {
   "cell_type": "code",
   "execution_count": 13,
   "id": "multiple-playback",
   "metadata": {},
   "outputs": [
    {
     "name": "stdout",
     "output_type": "stream",
     "text": [
      "Felicitaciónes MANO  😀 ! \n"
     ]
    }
   ],
   "source": [
    "primerajunta.caritafeliz(\"06/08\")"
   ]
  },
  {
   "cell_type": "code",
   "execution_count": 14,
   "id": "endless-airplane",
   "metadata": {},
   "outputs": [
    {
     "name": "stdout",
     "output_type": "stream",
     "text": [
      "MANO: 😀 😀\n",
      "\n",
      "JUAN: 😀\n",
      "\n"
     ]
    }
   ],
   "source": [
    "primerajunta.medallero()"
   ]
  },
  {
   "cell_type": "code",
   "execution_count": 15,
   "id": "personalized-multimedia",
   "metadata": {},
   "outputs": [
    {
     "name": "stdin",
     "output_type": "stream",
     "text": [
      "nombre B\n"
     ]
    }
   ],
   "source": [
    "primerajunta.guardar_planilla()"
   ]
  }
 ],
 "metadata": {
  "kernelspec": {
   "display_name": "Python 3",
   "language": "python",
   "name": "python3"
  },
  "language_info": {
   "codemirror_mode": {
    "name": "ipython",
    "version": 3
   },
   "file_extension": ".py",
   "mimetype": "text/x-python",
   "name": "python",
   "nbconvert_exporter": "python",
   "pygments_lexer": "ipython3",
   "version": "3.8.2"
  }
 },
 "nbformat": 4,
 "nbformat_minor": 5
}
