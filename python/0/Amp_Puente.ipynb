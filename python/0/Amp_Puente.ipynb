{
 "cells": [
  {
   "cell_type": "code",
   "execution_count": 98,
   "id": "157126a8-0435-4631-b0f5-ca1f1c62cd2d",
   "metadata": {},
   "outputs": [
    {
     "data": {
      "image/png": "[encoded data removed]",
      "text/plain": [
       "<IPython.core.display.Image object>"
      ]
     },
     "execution_count": 98,
     "metadata": {
      "image/png": {
       "width": 300
      }
     },
     "output_type": "execute_result"
    }
   ],
   "source": [
    "# El amplificador puente es como se observa en la imagen.\n",
    "import numpy as np\n",
    "import sympy as sym \n",
    "import matplotlib.pyplot as plt \n",
    "import matplotlib.image as mpimg \n",
    "from IPython.display import Image \n",
    "sym.init_printing() \n",
    "#%matplotlib widget \n",
    "%matplotlib inline\n",
    "Image(filename='amp_puente.png',width=300)  "
   ]
  },
  {
   "cell_type": "code",
   "execution_count": 111,
   "id": "f6856f82-a3fa-47a5-8021-21194dfa08e0",
   "metadata": {},
   "outputs": [
    {
     "data": {
      "image/png": "[encoded data removed]",
      "text/latex": [
       "$\\displaystyle Vo_{} = Vp \\left(\\frac{R_{2}}{R_{1} + R_{2}} - \\frac{R_{4}}{R_{3} + R_{4}}\\right) \\left(\\frac{R_{5}}{R_{6}} + 1\\right)$"
      ],
      "text/plain": [
       "        ⎛   R₂        R₄  ⎞ ⎛R₅    ⎞\n",
       "Vo = Vp⋅⎜─────── - ───────⎟⋅⎜── + 1⎟\n",
       "        ⎝R₁ + R₂   R₃ + R₄⎠ ⎝R₆    ⎠"
      ]
     },
     "metadata": {},
     "output_type": "display_data"
    }
   ],
   "source": [
    "# VERIFICAR QUE Vo RESPONDE A LA SIGUIENTE ECUACION\n",
    "sym.var('Va, Vb, Vc, Vd, Vo, Vp')\n",
    "sym.var('R1, R2, R3, R4, R5, R6')\n",
    "sym.var('Vo_')\n",
    "display(sym.Eq(Vo_,sym.fu(((1+R5/R6)*(R2/(R1+R2)-R4/(R3+R4))*Vp))))\n",
    "Vo_=sym.fu(((1+R6/R5)*(R2/(R1+R2)-R4/(R3+R4))*Vp))"
   ]
  },
  {
   "cell_type": "code",
   "execution_count": 112,
   "id": "a48839ea-6cbf-45e0-87d7-6ea00c4f7871",
   "metadata": {},
   "outputs": [
    {
     "data": {
      "image/png": "[encoded data removed]",
      "text/latex": [
       "$\\displaystyle Vo = - \\frac{Vp \\left(R_{5} + R_{6}\\right) \\left(R_{1} R_{4} - R_{2} R_{3}\\right)}{R_{5} \\left(R_{1} + R_{2}\\right) \\left(R_{3} + R_{4}\\right)}$"
      ],
      "text/plain": [
       "     -Vp⋅(R₅ + R₆)⋅(R₁⋅R₄ - R₂⋅R₃) \n",
       "Vo = ──────────────────────────────\n",
       "         R₅⋅(R₁ + R₂)⋅(R₃ + R₄)    "
      ]
     },
     "metadata": {},
     "output_type": "display_data"
    }
   ],
   "source": [
    "find=sym.Matrix(([Va],[Vb],[Vc],[Vd],[Vo])) #Incognitas\n",
    "#Se escriben tantas ecuacionenes como nodos haya\n",
    "ec_nodo_0=sym.Eq(Vd,0)\n",
    "ec_nodo_1=sym.Eq(Vb-Vc,Vp)\n",
    "ec_nodo_2=sym.Eq((Vb-Vd)/R3+(Vc-Vd)/R4,0)\n",
    "ec_nodo_3=sym.Eq(Va/R5+(Va-Vo)/R6,0)\n",
    "ec_nodo_4=sym.Eq((Vb-Va)/R1+(Vb-Vd)/R3,(Va-Vc)/R2+(Vd-Vc)/R4)#Caso especial de superNodo\n",
    "display(sym.Eq(Vo,sym.factor(sym.solve([ec_nodo_0,ec_nodo_1,ec_nodo_2,ec_nodo_3,ec_nodo_4],find)[Vo])))\n",
    "Vo=sym.simplify(sym.factor(sym.solve([ec_nodo_0,ec_nodo_1,ec_nodo_2,ec_nodo_3,ec_nodo_4],find)[Vo]))"
   ]
  },
  {
   "cell_type": "code",
   "execution_count": 113,
   "id": "b296d622-3f3e-4d53-8165-097c60f07795",
   "metadata": {},
   "outputs": [
    {
     "name": "stdout",
     "output_type": "stream",
     "text": [
      "Se valida la ecuación? True\n"
     ]
    }
   ],
   "source": [
    "print('Se valida la ecuación?',np.invert(np.bool_(sym.simplify(Vo_-Vo))))"
   ]
  },
  {
   "cell_type": "code",
   "execution_count": 118,
   "id": "2712ba1b-c353-48e3-9f38-25313f2ccf8d",
   "metadata": {},
   "outputs": [
    {
     "data": {
      "image/png": "[encoded data removed]",
      "text/latex": [
       "$\\displaystyle \\frac{Av D Vp}{R}$"
      ],
      "text/plain": [
       "Av⋅D⋅Vp\n",
       "───────\n",
       "   R   "
      ]
     },
     "metadata": {},
     "output_type": "display_data"
    }
   ],
   "source": [
    "sym.var('Av,R, D, Vo_D') # Si Av es la ganancia Av=(1+R6/R5)   R1=R-D (Contrae) R2=R+D R1/R2=R4/R3\n",
    "\n",
    "display(sym.simplify((Vo.subs({(R1,R-D),(R2,R+D),(R3,R+D),(R4,R-D),(R6,(Av-1)*R5)}))))"
   ]
  },
  {
   "cell_type": "code",
   "execution_count": null,
   "id": "a9b024a7-a2de-4401-9901-e2dc0902c9ab",
   "metadata": {},
   "outputs": [],
   "source": []
  }
 ],
 "metadata": {
  "kernelspec": {
   "display_name": "Python 3",
   "language": "python",
   "name": "python3"
  },
  "language_info": {
   "codemirror_mode": {
    "name": "ipython",
    "version": 3
   },
   "file_extension": ".py",
   "mimetype": "text/x-python",
   "name": "python",
   "nbconvert_exporter": "python",
   "pygments_lexer": "ipython3",
   "version": "3.8.2"
  }
 },
 "nbformat": 4,
 "nbformat_minor": 5
}
