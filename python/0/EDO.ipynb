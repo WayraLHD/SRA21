{
 "cells": [
  {
   "cell_type": "code",
   "execution_count": 1,
   "id": "32afad09-60e8-4f0a-aefa-af75228553b5",
   "metadata": {},
   "outputs": [
    {
     "data": {
      "text/latex": [
       "$\\displaystyle \\operatorname{I_{c}}{\\left(t \\right)} = C \\omega \\cos{\\left(\\omega t \\right)}$"
      ],
      "text/plain": [
       "Eq(I_c(t), C*\\omega*cos(\\omega*t))"
      ]
     },
     "metadata": {},
     "output_type": "display_data"
    }
   ],
   "source": [
    "import sympy as sym\n",
    "\n",
    "t, C = sym.symbols('t,C')\n",
    "I_c = sym.Function('I_c')(t)\n",
    "V_c = sym.Function('V_c')(t)\n",
    "w = sym.Symbol('\\omega')\n",
    "\n",
    "eq=sym.Eq(I_c,C * sym.diff(V_c,t))\n",
    "#I_c = C * sym.diff(V_c,t)\n",
    "\n",
    "display(sym.simplify(eq.subs(V_c,sym.sin(w*t))))\n"
   ]
  },
  {
   "cell_type": "code",
   "execution_count": 2,
   "id": "01b740f2-bf89-4d4d-9452-7e3bd571e9c2",
   "metadata": {
    "tags": []
   },
   "outputs": [
    {
     "data": {
      "text/latex": [
       "$\\displaystyle 0.001 e^{- 6 t} = 4.0 \\cdot 10^{-5} \\frac{d}{d t} \\operatorname{Vc}{\\left(t \\right)}$"
      ],
      "text/plain": [
       "Eq(0.001*exp(-6*t), 4.0e-5*Derivative(Vc(t), t))"
      ]
     },
     "metadata": {},
     "output_type": "display_data"
    },
    {
     "data": {
      "text/latex": [
       "$\\displaystyle \\operatorname{Vc}{\\left(t \\right)} = 29.1666666666667 - 4.16666666666667 e^{- 6 t}$"
      ],
      "text/plain": [
       "Eq(Vc(t), 29.1666666666667 - 4.16666666666667*exp(-6*t))"
      ]
     },
     "execution_count": 2,
     "metadata": {},
     "output_type": "execute_result"
    }
   ],
   "source": [
    "from sympy.solvers import ode\n",
    "#El voltaje a traves de un condensador de 40µF es de 25[V] en t=0. Si la corriente\n",
    "# a traves del condensador es una funcion de tiempo dada por i(t)=6*exp(-6*t) mA para t>0\n",
    "# encontrar v(t)\n",
    "\n",
    "t, C = sym.symbols('t,C')\n",
    "C = (40e-6)\n",
    "Ic = sym.Function('Ic')(t)\n",
    "Vc = sym.Function('Vc')(t)\n",
    "\n",
    "Ic = sym.simplify(sym.exp(-6*t)*1e-3)\n",
    "\n",
    "eq=sym.Eq(Ic,C*Vc.diff(t))\n",
    "display(eq)\n",
    "\n",
    "f = ode.dsolve(eq, hint='separable',ics={Vc.subs(t,0):25})\n",
    "f"
   ]
  },
  {
   "cell_type": "code",
   "execution_count": 3,
   "id": "93f9bb60-82e0-4e0b-a767-10af7cca5038",
   "metadata": {},
   "outputs": [
    {
     "data": {
      "text/latex": [
       "$\\displaystyle 0.0170138888888889 \\left(e^{6 t} - 0.142857142857143\\right)^{2} e^{- 12 t}$"
      ],
      "text/plain": [
       "0.0170138888888889*(exp(6*t) - 0.142857142857143)**2*exp(-12*t)"
      ]
     },
     "metadata": {},
     "output_type": "display_data"
    }
   ],
   "source": [
    "Vc=f.rhs\n",
    "Wc=sym.Function('Wc')(t)\n",
    "Wc=0.5*C*Vc**2\n",
    "display(sym.simplify(Wc))"
   ]
  },
  {
   "cell_type": "code",
   "execution_count": 4,
   "id": "c95ae14a-b950-482a-a1ee-9cfca8e81709",
   "metadata": {},
   "outputs": [
    {
     "data": {
      "text/latex": [
       "$\\displaystyle 10 t e^{- 5 t} = 0.1 \\frac{d}{d t} \\operatorname{Il}{\\left(t \\right)}$"
      ],
      "text/plain": [
       "Eq(10*t*exp(-5*t), 0.1*Derivative(Il(t), t))"
      ]
     },
     "metadata": {},
     "output_type": "display_data"
    },
    {
     "data": {
      "text/latex": [
       "$\\displaystyle \\operatorname{Il}{\\left(t \\right)} = - 20.0 t e^{- 5 t} + 4.0 - 4.0 e^{- 5 t}$"
      ],
      "text/plain": [
       "Eq(Il(t), -20.0*t*exp(-5*t) + 4.0 - 4.0*exp(-5*t))"
      ]
     },
     "execution_count": 4,
     "metadata": {},
     "output_type": "execute_result"
    }
   ],
   "source": [
    "#Ejemplo 7-6-1\n",
    "# Encuentre la corriente de un inductor L = 0.1H cuando el voltaje a\n",
    "#traves del inducor es V=10*t*exp(-5t)\n",
    "\n",
    "t = sym.symbols('t')\n",
    "L = (0.1)\n",
    "Il = sym.Function('Il')(t)\n",
    "Vl = sym.Function('Vl')(t)\n",
    "Vl = sym.simplify(10*t*sym.exp(-5*t))\n",
    "eq=sym.Eq(Vl,L*Il.diff(t))\n",
    "display(eq)\n",
    "\n",
    "\n",
    "f = ode.dsolve(eq, hint='separable',ics={Il.subs(t,0):0})\n",
    "f"
   ]
  },
  {
   "cell_type": "code",
   "execution_count": 5,
   "id": "e5d68e12-2533-4138-a791-a477b318d751",
   "metadata": {},
   "outputs": [
    {
     "data": {
      "text/latex": [
       "$\\displaystyle \\left(- 20.0 t + 4.0 e^{5 t} - 4.0\\right) e^{- 5 t}$"
      ],
      "text/plain": [
       "(-20.0*t + 4.0*exp(5*t) - 4.0)*exp(-5*t)"
      ]
     },
     "metadata": {},
     "output_type": "display_data"
    }
   ],
   "source": [
    "Il=sym.simplify(f.rhs)\n",
    "display(sym.simplify(Il))"
   ]
  },
  {
   "cell_type": "code",
   "execution_count": 10,
   "id": "9b6a861d-6fe1-4731-b4e5-e76894a4322d",
   "metadata": {},
   "outputs": [
    {
     "data": {
      "image/png": "[encoded data removed]",
      "text/plain": [
       "<Figure size 432x288 with 1 Axes>"
      ]
     },
     "metadata": {
      "needs_background": "light"
     },
     "output_type": "display_data"
    },
    {
     "data": {
      "image/png": "[encoded data removed]",
      "text/plain": [
       "<Figure size 432x288 with 1 Axes>"
      ]
     },
     "metadata": {
      "needs_background": "light"
     },
     "output_type": "display_data"
    },
    {
     "data": {
      "text/plain": [
       "<sympy.plotting.plot.Plot at 0x7f6114331880>"
      ]
     },
     "execution_count": 10,
     "metadata": {},
     "output_type": "execute_result"
    }
   ],
   "source": [
    "sym.plot(Il,(t,0,2))\n",
    "sym.plot(Vl,(t,0,2))"
   ]
  },
  {
   "cell_type": "code",
   "execution_count": 7,
   "id": "b7f2c8e7-6283-4fe6-a266-f40b7bca1ac7",
   "metadata": {},
   "outputs": [
    {
     "data": {
      "text/latex": [
       "$\\displaystyle 3 y{\\left(t \\right)} + 4 \\frac{d}{d t} y{\\left(t \\right)} + 5 \\frac{d^{2}}{d t^{2}} y{\\left(t \\right)} + 2 \\frac{d^{3}}{d t^{3}} y{\\left(t \\right)} = 6 x{\\left(t \\right)}$"
      ],
      "text/plain": [
       "Eq(3*y(t) + 4*Derivative(y(t), t) + 5*Derivative(y(t), (t, 2)) + 2*Derivative(y(t), (t, 3)), 6*x(t))"
      ]
     },
     "metadata": {},
     "output_type": "display_data"
    },
    {
     "data": {
      "text/latex": [
       "$\\displaystyle y{\\left(t \\right)} = C_{1} e^{\\frac{t \\left(-10 + \\frac{1}{\\sqrt[3]{6 \\sqrt{318} + 107}} + \\sqrt[3]{6 \\sqrt{318} + 107}\\right)}{12}} \\sin{\\left(\\frac{\\sqrt{3} t \\left(- \\sqrt[3]{6 \\sqrt{318} + 107} + \\frac{1}{\\sqrt[3]{6 \\sqrt{318} + 107}}\\right)}{12} \\right)} + C_{2} e^{\\frac{t \\left(-10 + \\frac{1}{\\sqrt[3]{6 \\sqrt{318} + 107}} + \\sqrt[3]{6 \\sqrt{318} + 107}\\right)}{12}} \\cos{\\left(\\frac{\\sqrt{3} t \\left(- \\sqrt[3]{6 \\sqrt{318} + 107} + \\frac{1}{\\sqrt[3]{6 \\sqrt{318} + 107}}\\right)}{12} \\right)} + C_{3} e^{\\frac{t \\left(- \\sqrt[3]{6 \\sqrt{318} + 107} - 5 - \\frac{1}{\\sqrt[3]{6 \\sqrt{318} + 107}}\\right)}{6}} - \\frac{6 K e^{- a t}}{2 a^{3} - 5 a^{2} + 4 a - 3}$"
      ],
      "text/plain": [
       "Eq(y(t), C1*exp(t*(-10 + (6*sqrt(318) + 107)**(-1/3) + (6*sqrt(318) + 107)**(1/3))/12)*sin(sqrt(3)*t*(-(6*sqrt(318) + 107)**(1/3) + (6*sqrt(318) + 107)**(-1/3))/12) + C2*exp(t*(-10 + (6*sqrt(318) + 107)**(-1/3) + (6*sqrt(318) + 107)**(1/3))/12)*cos(sqrt(3)*t*(-(6*sqrt(318) + 107)**(1/3) + (6*sqrt(318) + 107)**(-1/3))/12) + C3*exp(t*(-(6*sqrt(318) + 107)**(1/3) - 5 - 1/(6*sqrt(318) + 107)**(1/3))/6) - 6*K*exp(-a*t)/(2*a**3 - 5*a**2 + 4*a - 3))"
      ]
     },
     "execution_count": 7,
     "metadata": {},
     "output_type": "execute_result"
    }
   ],
   "source": [
    "## Circ de Opamp y ec dif lineal\n",
    "t, K, a = sym.symbols('t, K, a')\n",
    "x = sym.Function('x')(t)\n",
    "y = sym.Function('y')(t)\n",
    "\n",
    "eq = sym.Eq(2*sym.diff(y,t,3)+5*sym.diff(y,t,2)+4*sym.diff(y,t)+3*y,6*x)\n",
    "display(eq)\n",
    "\n",
    "f = ode.dsolve(eq.subs(x,K*sym.exp(-a*t)), y)\n",
    "f"
   ]
  },
  {
   "cell_type": "code",
   "execution_count": 8,
   "id": "21341955-88ca-43b5-923a-450ce65bb800",
   "metadata": {},
   "outputs": [
    {
     "data": {
      "text/latex": [
       "$\\displaystyle Vco = C R \\frac{d}{d t} \\operatorname{Vc}{\\left(t \\right)} + \\operatorname{Vc}{\\left(t \\right)}$"
      ],
      "text/plain": [
       "Eq(Vco, C*R*Derivative(Vc(t), t) + Vc(t))"
      ]
     },
     "metadata": {},
     "output_type": "display_data"
    },
    {
     "data": {
      "text/latex": [
       "$\\displaystyle \\operatorname{Vc}{\\left(t \\right)} = Vco - Vco e^{- \\frac{t}{C R}}$"
      ],
      "text/plain": [
       "Eq(Vc(t), Vco - Vco*exp(-t/(C*R)))"
      ]
     },
     "execution_count": 8,
     "metadata": {},
     "output_type": "execute_result"
    }
   ],
   "source": [
    "#RC Circuito\n",
    "Vco, R, C, t = sym.symbols('Vco, R, C, t', real=True, positive=True)\n",
    "Ic = sym.Function('Ic')(t)\n",
    "Vc = sym.Function('Vc')(t)\n",
    "\n",
    "eq=sym.Eq(Vco,R*C*sym.diff(Vc,t)+Vc)\n",
    "display(eq)\n",
    "f = ode.dsolve(eq, Vc,ics={Vc.subs(t,0):0})\n",
    "f"
   ]
  },
  {
   "cell_type": "code",
   "execution_count": 11,
   "id": "f1e7cbcd-6e1c-44fd-ae7c-7c48559dc5fd",
   "metadata": {},
   "outputs": [
    {
     "data": {
      "text/latex": [
       "$\\displaystyle \\frac{Vco}{s \\left(C R s + 1\\right)}$"
      ],
      "text/plain": [
       "Vco/(s*(C*R*s + 1))"
      ]
     },
     "metadata": {},
     "output_type": "display_data"
    },
    {
     "data": {
      "text/latex": [
       "$\\displaystyle Vco \\theta\\left(t\\right) - Vco e^{- \\frac{t}{C R}} \\theta\\left(t\\right)$"
      ],
      "text/plain": [
       "Vco*Heaviside(t) - Vco*exp(-t/(C*R))*Heaviside(t)"
      ]
     },
     "metadata": {},
     "output_type": "display_data"
    }
   ],
   "source": [
    "#Si resolviera usando LAPLACE\n",
    "t, s = sym.symbols('t, s')\n",
    "def L(f):\n",
    "    return sym.laplace_transform(f, t, s, noconds=True)\n",
    "def invL(F):\n",
    "    return sym.inverse_laplace_transform(F, s, t)\n",
    "\n",
    "VC=Vco/(s*(C*R*s+1))\n",
    "display(VC)\n",
    "display(sym.simplify(invL(VC.apart(s))))\n"
   ]
  },
  {
   "cell_type": "code",
   "execution_count": null,
   "id": "ee5bd74a-c92e-45c5-9c5f-5d261741339c",
   "metadata": {},
   "outputs": [],
   "source": []
  }
 ],
 "metadata": {
  "kernelspec": {
   "display_name": "Python 3",
   "language": "python",
   "name": "python3"
  },
  "language_info": {
   "codemirror_mode": {
    "name": "ipython",
    "version": 3
   },
   "file_extension": ".py",
   "mimetype": "text/x-python",
   "name": "python",
   "nbconvert_exporter": "python",
   "pygments_lexer": "ipython3",
   "version": "3.8.2"
  }
 },
 "nbformat": 4,
 "nbformat_minor": 5
}
