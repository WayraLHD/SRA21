{
 "cells": [
  {
   "cell_type": "code",
   "execution_count": 97,
   "id": "9cb4826f-208d-4052-87ca-e7949d98edc6",
   "metadata": {},
   "outputs": [],
   "source": [
    "from scipy import signal\n",
    "from scipy.signal import freqs\n",
    "import numpy as np  #Importa libreria numerica \n",
    "import sympy as sym #simbolica\n",
    "import matplotlib.pyplot as plt #importa matplotlib solo pyplot\n",
    "\n",
    "sym.init_printing() #activa a jupyter para mostrar simbolicamente el output\n",
    "%matplotlib widget "
   ]
  },
  {
   "cell_type": "code",
   "execution_count": 98,
   "id": "3c6dd643-aa16-45e5-80c8-db6342d1ceef",
   "metadata": {},
   "outputs": [],
   "source": [
    "# Parametros de Entrada\n",
    "FS=5000*10;\n",
    "fp=[800, 1250]; #Banda de Paso [Hz]\n",
    "fs=[200, 5000]; #Banda de Rechazo [Hz]\n",
    "Wp=np.dot(2*np.pi,fp); #Banda de Paso [rad/s]\n",
    "Ws=np.dot(2*np.pi,fs); #Banda de Rechazo [rad/s]\n",
    "Ap=0.25; #Atenuacion maxima en Banda de Paso [dB]\n",
    "As=30; #%Atenuacion minima en Banda de Rechazo [dB]\n"
   ]
  },
  {
   "cell_type": "code",
   "execution_count": 102,
   "id": "8ad51cbf-a3b5-44de-ae6b-d1c3c83a74e9",
   "metadata": {},
   "outputs": [],
   "source": [
    "N, Wn = signal.cheb1ord(Wp, Ws, Ap, As, analog=True)\n",
    "b, a = signal.cheby1(N, Ap, Wn, btype='bandpass', analog=True)\n",
    "w, h = signal.freqs(b, a)"
   ]
  },
  {
   "cell_type": "code",
   "execution_count": 103,
   "id": "aa931007-802a-4d47-912c-b3f8582793cd",
   "metadata": {},
   "outputs": [],
   "source": [
    "Filtro=signal.TransferFunction(b,a) #Funcion de transferencia calculada\n",
    "#Implementacion como PasaAlto/PasaBajo\n",
    "sos = signal.cheby1(N, Ap, Wn, btype='bandpass', output='sos', analog=True)\n",
    "PasaBajo=signal.TransferFunction(2*sos[0,:3],sos[0,3:])\n",
    "PasaAlto=signal.TransferFunction(1/2*sos[1,:3],sos[1,3:])"
   ]
  },
  {
   "cell_type": "code",
   "execution_count": 107,
   "id": "4107596e-8f71-4f4f-a355-63c6fd96598d",
   "metadata": {},
   "outputs": [
    {
     "data": {
      "application/vnd.jupyter.widget-view+json": {
       "model_id": "267d333a9d7b4f1287d6e21bc3fc20b6",
       "version_major": 2,
       "version_minor": 0
      },
      "text/plain": [
       "Canvas(toolbar=Toolbar(toolitems=[('Home', 'Reset original view', 'home', 'home'), ('Back', 'Back to previous …"
      ]
     },
     "metadata": {},
     "output_type": "display_data"
    }
   ],
   "source": [
    "plt.figure()\n",
    "plt.semilogx(w, 20 * np.log10(abs(h)))\n",
    "plt.title('Chebyshev I ')\n",
    "plt.xlabel('Frecuencia [rad/seg]')\n",
    "plt.ylabel('Amplitud [dB]')\n",
    "plt.grid(which='both', axis='both')\n",
    "plt.show()"
   ]
  },
  {
   "cell_type": "code",
   "execution_count": 131,
   "id": "d39cee6f-34f8-4945-9908-70ca392114a9",
   "metadata": {},
   "outputs": [
    {
     "data": {
      "text/plain": [
       "TransferFunctionContinuous(\n",
       "array([16420899.35090685,        0.        ,        0.        ]),\n",
       "array([1.00000000e+00, 5.08000167e+03, 9.58572335e+07, 2.00550427e+11,\n",
       "       1.55854546e+15]),\n",
       "dt: None\n",
       ")"
      ]
     },
     "execution_count": 131,
     "metadata": {},
     "output_type": "execute_result"
    }
   ],
   "source": [
    "\n",
    "\n"
   ]
  },
  {
   "cell_type": "code",
   "execution_count": 132,
   "id": "f80c0970-b732-4aaf-940a-3b7ac9fbaee2",
   "metadata": {},
   "outputs": [
    {
     "data": {
      "text/plain": [
       "TransferFunctionContinuous(\n",
       "array([0.5, 0. , 0. ]),\n",
       "array([1.00000000e+00, 1.89557535e+03, 2.35000932e+07]),\n",
       "dt: None\n",
       ")"
      ]
     },
     "execution_count": 132,
     "metadata": {},
     "output_type": "execute_result"
    }
   ],
   "source": [
    "PasaAlto"
   ]
  },
  {
   "cell_type": "code",
   "execution_count": 93,
   "id": "1dccbfb3-97d5-4271-a395-67e6f2e760ab",
   "metadata": {},
   "outputs": [
    {
     "data": {
      "text/plain": [
       "TransferFunctionContinuous(\n",
       "array([32841798.70181369,        0.        ,        0.        ]),\n",
       "array([1.00000000e+00, 3.18442632e+03, 6.63208202e+07]),\n",
       "dt: None\n",
       ")"
      ]
     },
     "execution_count": 93,
     "metadata": {},
     "output_type": "execute_result"
    }
   ],
   "source": [
    "PasaBajo"
   ]
  }
 ],
 "metadata": {
  "kernelspec": {
   "display_name": "Python 3",
   "language": "python",
   "name": "python3"
  },
  "language_info": {
   "codemirror_mode": {
    "name": "ipython",
    "version": 3
   },
   "file_extension": ".py",
   "mimetype": "text/x-python",
   "name": "python",
   "nbconvert_exporter": "python",
   "pygments_lexer": "ipython3",
   "version": "3.8.2"
  }
 },
 "nbformat": 4,
 "nbformat_minor": 5
}
