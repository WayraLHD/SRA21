{
 "cells": [
  {
   "cell_type": "code",
   "execution_count": 1,
   "id": "desperate-chicago",
   "metadata": {},
   "outputs": [],
   "source": [
    "import numpy as np  #Importa libreria numerica \n",
    "import sympy as sym #simbolica\n",
    "import matplotlib.pyplot as plt #importa matplotlib solo pyplot\n",
    "import matplotlib.image as mpimg \n",
    "from sympy.plotting import plot  \n",
    "from sympy.plotting import plot3d  \n",
    "\n",
    "from IPython.display import Image\n",
    "import ipympl\n",
    "\n",
    "sym.init_printing()\n",
    "%matplotlib widget\n",
    "#import mpld3\n",
    "#mpld3.enable_notebook()"
   ]
  },
  {
   "cell_type": "code",
   "execution_count": 2,
   "id": "stainless-jersey",
   "metadata": {},
   "outputs": [
    {
     "data": {
      "application/vnd.jupyter.widget-view+json": {
       "model_id": "f0e5df22bab9458d852fee05f8360691",
       "version_major": 2,
       "version_minor": 0
      },
      "text/plain": [
       "Canvas(toolbar=Toolbar(toolitems=[('Home', 'Reset original view', 'home', 'home'), ('Back', 'Back to previous …"
      ]
     },
     "metadata": {},
     "output_type": "display_data"
    },
    {
     "data": {
      "image/png": "[encoded data removed]",
      "text/plain": [
       "<IPython.core.display.Image object>"
      ]
     },
     "execution_count": 2,
     "metadata": {},
     "output_type": "execute_result"
    }
   ],
   "source": [
    "# Problema de diseño: SABOVODA P5.4\n",
    "# Plantea que a los bornes del Circuito las variables Io Vo\n",
    "# Respondan como la recta de la figura.\n",
    "\n",
    "esq= mpimg.imread('Lineal.png') #sube la imagen del circuito esq.\n",
    "plt.imshow(esq)\n",
    "plt.show()\n",
    "\n",
    "Image(filename='Recta.png')  #Muestra la imagen"
   ]
  },
  {
   "cell_type": "code",
   "execution_count": 15,
   "id": "floating-bearing",
   "metadata": {},
   "outputs": [
    {
     "data": {
      "image/png": "[encoded data removed]",
      "text/latex": [
       "$\\displaystyle \\left\\{\\left( 625.0, \\  -5.0\\right)\\right\\}$"
      ],
      "text/plain": [
       "{(625.0, -5.0)}"
      ]
     },
     "metadata": {},
     "output_type": "display_data"
    },
    {
     "name": "stdout",
     "output_type": "stream",
     "text": [
      "Variable:  FiniteSet((625.0, -5.0))  y el Tipo:  <class 'sympy.sets.sets.FiniteSet'>\n"
     ]
    },
    {
     "data": {
      "text/latex": [
       "$\\displaystyle \\left[\\begin{matrix}625.0\\\\-5.0\\end{matrix}\\right]$"
      ],
      "text/plain": [
       "⎡625.0⎤\n",
       "⎢     ⎥\n",
       "⎣-5.0 ⎦"
      ]
     },
     "execution_count": 15,
     "metadata": {},
     "output_type": "execute_result"
    }
   ],
   "source": [
    "#Primero hay que determinar la función lineal de la recta\n",
    "# y = m * x + a\n",
    "\n",
    "# Ec. Lineal:  y = m*x + a   ->   Vo = Rth * Io + Vth    \n",
    "sym.var('m, a') #Define variables simbolicas.\n",
    "(x0,y0)=(8e-3,0)\n",
    "(x1,y1)=(0,-5)\n",
    "res=sym.linsolve( [ m * x0 + a - y0,  #1ra ec. \n",
    "                    m * x1 + a - y1 ], #2da\n",
    "                 (m,a)  #se indica que variables calcula\n",
    "                ) \n",
    "#resuelve 2 ec\n",
    "#res \n",
    "display(res)\n",
    "print(\"Variable: \",res,\" y el Tipo: \",type(res))\n",
    "Matrix=[Rth,Vt]=sym.Matrix((res.args[0][0],res.args[0][1]))\n",
    "Matrix"
   ]
  },
  {
   "cell_type": "code",
   "execution_count": 4,
   "id": "compressed-utilization",
   "metadata": {},
   "outputs": [
    {
     "data": {
      "application/vnd.jupyter.widget-view+json": {
       "model_id": "5a72b8de41294715ab676bad6fa66b33",
       "version_major": 2,
       "version_minor": 0
      },
      "text/plain": [
       "Canvas(toolbar=Toolbar(toolitems=[('Home', 'Reset original view', 'home', 'home'), ('Back', 'Back to previous …"
      ]
     },
     "metadata": {},
     "output_type": "display_data"
    },
    {
     "data": {
      "image/png": "[encoded data removed]",
      "text/latex": [
       "$\\displaystyle 625.0 Io - 5.0$"
      ],
      "text/plain": [
       "625.0⋅Io - 5.0"
      ]
     },
     "metadata": {},
     "output_type": "display_data"
    }
   ],
   "source": [
    "# Se verifica graficando Vo = Rth * Io + Vth remplazando por los valores encontrados\n",
    "sym.var(\"Io,Vo\")\n",
    "Vo=Rth*Io+Vt\n",
    "plt_0=sym.plot(Vo,(Io,-1e-3,10e-3)) #Grafica Vo vs Io para algunos valores de Io\n",
    "display(Vo)"
   ]
  },
  {
   "cell_type": "code",
   "execution_count": 5,
   "id": "advanced-mouse",
   "metadata": {},
   "outputs": [
    {
     "data": {
      "image/png": "[encoded data removed]",
      "text/plain": [
       "<IPython.core.display.Image object>"
      ]
     },
     "execution_count": 5,
     "metadata": {},
     "output_type": "execute_result"
    }
   ],
   "source": [
    "# Para resolver el circuito y encontrar su equivalente Thevenin\n",
    "# Hay que encontrar Vth y Rth.\n",
    "# Tanto Vth o In es facil calcularlos aplicando: \n",
    "# El metodo LKV para encontrar In en el Circuito cuando Vo=0\n",
    "# El metodo LKC para encontrar Vth en el Circuito cuando Io=0\n",
    "# Rth = Vth / In\n",
    "Image(filename='Thevenin.png')#Muestra el circuito para encontrar Vth"
   ]
  },
  {
   "cell_type": "code",
   "execution_count": 6,
   "id": "imported-buffalo",
   "metadata": {},
   "outputs": [],
   "source": [
    "\n",
    "#Thevenin : APLICAR LKC [I]=[G]*[V]\n",
    "Va, Vb= sym.symbols('Va, Vb') #Define los nodos (simbolic)\n",
    "Vm = sym.Matrix(([Va],[Vb])) #Define la matriz (simb)"
   ]
  },
  {
   "cell_type": "code",
   "execution_count": 7,
   "id": "impressive-blake",
   "metadata": {},
   "outputs": [],
   "source": [
    "R1, R2 = sym.symbols('R1, R2') #Defino la matriz GG \n",
    "\n",
    "GG = sym.Matrix(( [1, 0] ,\n",
    "                  [0, 1/R1+1/R2]\n",
    "                 ))"
   ]
  },
  {
   "cell_type": "code",
   "execution_count": 8,
   "id": "dimensional-november",
   "metadata": {},
   "outputs": [],
   "source": [
    "b, Vs = sym.symbols('b, Vs') #Defino la matriz I \n",
    "\n",
    "II=sym.Matrix(([Vs],\n",
    "               [(b/R1)*(Va-Vb)]\n",
    "              ))\n"
   ]
  },
  {
   "cell_type": "code",
   "execution_count": 9,
   "id": "detected-syndrome",
   "metadata": {},
   "outputs": [
    {
     "data": {
      "text/latex": [
       "$\\displaystyle \\left[\\begin{matrix}Vs\\\\\\frac{b \\left(Va - Vb\\right)}{R_{1}}\\end{matrix}\\right] = \\left[\\begin{matrix}Va\\\\Vb \\left(\\frac{1}{R_{2}} + \\frac{1}{R_{1}}\\right)\\end{matrix}\\right]$"
      ],
      "text/plain": [
       "⎡    Vs     ⎤   ⎡     Va     ⎤\n",
       "⎢           ⎥   ⎢            ⎥\n",
       "⎢b⋅(Va - Vb)⎥ = ⎢   ⎛1    1 ⎞⎥\n",
       "⎢───────────⎥   ⎢Vb⋅⎜── + ──⎟⎥\n",
       "⎣     R₁    ⎦   ⎣   ⎝R₂   R₁⎠⎦"
      ]
     },
     "metadata": {},
     "output_type": "display_data"
    },
    {
     "data": {
      "image/png": "[encoded data removed]",
      "text/latex": [
       "$\\displaystyle \\left\\{ Va : Vs, \\  Vb : \\frac{R_{2} Vs b}{R_{1} + R_{2} b + R_{2}}\\right\\}$"
      ],
      "text/plain": [
       "⎧               R₂⋅Vs⋅b    ⎫\n",
       "⎨Va: Vs, Vb: ──────────────⎬\n",
       "⎩            R₁ + R₂⋅b + R₂⎭"
      ]
     },
     "metadata": {},
     "output_type": "display_data"
    },
    {
     "data": {
      "image/png": "[encoded data removed]",
      "text/latex": [
       "$\\displaystyle Vth = \\frac{R_{2} Vs b}{R_{1} + R_{2} b + R_{2}}$"
      ],
      "text/plain": [
       "         R₂⋅Vs⋅b    \n",
       "Vth = ──────────────\n",
       "      R₁ + R₂⋅b + R₂"
      ]
     },
     "metadata": {},
     "output_type": "display_data"
    }
   ],
   "source": [
    "ec=sym.Eq(II,GG*Vm)\n",
    "display(ec)\n",
    "Vres=sym.solve(ec,Vm) #Con la función de vuelve la solución de Eq resolviendo para Vm=[Va],[Vb]\n",
    "display(Vres)\n",
    "\n",
    "sym.var('Vth')\n",
    "display(sym.Eq(Vth,Vres[Vb]))"
   ]
  },
  {
   "cell_type": "code",
   "execution_count": 10,
   "id": "arbitrary-driver",
   "metadata": {},
   "outputs": [
    {
     "data": {
      "image/png": "[encoded data removed]",
      "text/plain": [
       "<IPython.core.display.Image object>"
      ]
     },
     "execution_count": 10,
     "metadata": {},
     "output_type": "execute_result"
    }
   ],
   "source": [
    "Image(filename='Norton.png')#Muestra el circuito para encontrar In\n"
   ]
  },
  {
   "cell_type": "code",
   "execution_count": 11,
   "id": "double-mistake",
   "metadata": {},
   "outputs": [
    {
     "data": {
      "text/latex": [
       "$\\displaystyle \\left[\\begin{matrix}Vs\\\\I_{0} b\\\\0\\end{matrix}\\right] = \\left[\\begin{matrix}I_{0} R_{1} + I_{1} R_{2} - I_{2} R_{2}\\\\- I_{0} + I_{1}\\\\I_{1} R_{2} - I_{2} R_{2}\\end{matrix}\\right]$"
      ],
      "text/plain": [
       "⎡ Vs ⎤   ⎡I₀⋅R₁ + I₁⋅R₂ - I₂⋅R₂⎤\n",
       "⎢    ⎥   ⎢                     ⎥\n",
       "⎢I₀⋅b⎥ = ⎢      -I₀ + I₁       ⎥\n",
       "⎢    ⎥   ⎢                     ⎥\n",
       "⎣ 0  ⎦   ⎣    I₁⋅R₂ - I₂⋅R₂    ⎦"
      ]
     },
     "metadata": {},
     "output_type": "display_data"
    },
    {
     "data": {
      "text/latex": [
       "$\\displaystyle \\left[\\begin{matrix}Vs\\\\0\\\\0\\end{matrix}\\right] = \\left[\\begin{matrix}I_{0} R_{1} + I_{1} R_{2} - I_{2} R_{2}\\\\I_{0} \\left(- b - 1\\right) + I_{1}\\\\I_{1} R_{2} - I_{2} R_{2}\\end{matrix}\\right]$"
      ],
      "text/plain": [
       "⎡Vs⎤   ⎡I₀⋅R₁ + I₁⋅R₂ - I₂⋅R₂⎤\n",
       "⎢  ⎥   ⎢                     ⎥\n",
       "⎢0 ⎥ = ⎢  I₀⋅(-b - 1) + I₁   ⎥\n",
       "⎢  ⎥   ⎢                     ⎥\n",
       "⎣0 ⎦   ⎣    I₁⋅R₂ - I₂⋅R₂    ⎦"
      ]
     },
     "metadata": {},
     "output_type": "display_data"
    },
    {
     "data": {
      "text/latex": [
       "$\\displaystyle \\left[\\begin{matrix}\\frac{Vs}{R_{1}}\\\\\\frac{Vs \\left(b + 1\\right)}{R_{1}}\\\\Vs \\left(\\frac{b}{R_{1}} + \\frac{1}{R_{1}}\\right)\\end{matrix}\\right]$"
      ],
      "text/plain": [
       "⎡     Vs     ⎤\n",
       "⎢     ──     ⎥\n",
       "⎢     R₁     ⎥\n",
       "⎢            ⎥\n",
       "⎢ Vs⋅(b + 1) ⎥\n",
       "⎢ ────────── ⎥\n",
       "⎢     R₁     ⎥\n",
       "⎢            ⎥\n",
       "⎢   ⎛b    1 ⎞⎥\n",
       "⎢Vs⋅⎜── + ──⎟⎥\n",
       "⎣   ⎝R₁   R₁⎠⎦"
      ]
     },
     "metadata": {},
     "output_type": "display_data"
    },
    {
     "data": {
      "image/png": "[encoded data removed]",
      "text/latex": [
       "$\\displaystyle In = \\frac{Vs \\left(b + 1\\right)}{R_{1}}$"
      ],
      "text/plain": [
       "     Vs⋅(b + 1)\n",
       "In = ──────────\n",
       "         R₁    "
      ]
     },
     "metadata": {},
     "output_type": "display_data"
    }
   ],
   "source": [
    "sym.var('I0, I1, I2') \n",
    "#  Vs = I0 * R1 + I1 * R2 - I2 * R2 ;\n",
    "#  b*I0 = I1-I0   \n",
    "#  0 = R2*I1 - R2*I2\n",
    "\n",
    "II=sym.Matrix(([I0],[I1],[I2]))\n",
    "VV=sym.Matrix(([Vs],[b*I0],[0]))\n",
    "RR=sym.Matrix(([R1,R2,-R2],[-1, 1, 0],[0,R2,-R2]))\n",
    "display(sym.Eq(VV,RR*II))\n",
    "VV=sym.Matrix(([Vs],[0],[0]))\n",
    "RR=sym.Matrix(([R1,R2,-R2],[-(1+b), 1, 0],[0,R2,-R2]))\n",
    "display(sym.Eq(VV,RR*II))\n",
    "Ires=RR**-1*VV\n",
    "display(Ires)\n",
    "\n",
    "sym.var('In')\n",
    "display(sym.Eq(In,sym.simplify(Ires[2])))"
   ]
  },
  {
   "cell_type": "code",
   "execution_count": 12,
   "id": "helpful-productivity",
   "metadata": {},
   "outputs": [
    {
     "data": {
      "image/png": "[encoded data removed]",
      "text/latex": [
       "$\\displaystyle Vth = \\frac{R_{2} Vs b}{R_{1} + R_{2} b + R_{2}}$"
      ],
      "text/plain": [
       "         R₂⋅Vs⋅b    \n",
       "Vth = ──────────────\n",
       "      R₁ + R₂⋅b + R₂"
      ]
     },
     "metadata": {},
     "output_type": "display_data"
    },
    {
     "data": {
      "image/png": "[encoded data removed]",
      "text/latex": [
       "$\\displaystyle Rt = \\frac{R_{1} R_{2} b}{\\left(b + 1\\right) \\left(R_{1} + R_{2} b + R_{2}\\right)}$"
      ],
      "text/plain": [
       "             R₁⋅R₂⋅b         \n",
       "Rt = ────────────────────────\n",
       "     (b + 1)⋅(R₁ + R₂⋅b + R₂)"
      ]
     },
     "metadata": {},
     "output_type": "display_data"
    }
   ],
   "source": [
    "#La resistencia de Thevenin es Vth/In\n",
    "In=sym.simplify(Ires[2])\n",
    "sym.var('Vth')\n",
    "display(sym.Eq(Vth,Vres[Vb]))\n",
    "Vth=sym.simplify(Vres[Vb])\n",
    "sym.var('Rt')\n",
    "display(sym.Eq(Rt,Vth/In))\n",
    "Rt=Vth/In"
   ]
  },
  {
   "cell_type": "code",
   "execution_count": 13,
   "id": "consistent-implement",
   "metadata": {},
   "outputs": [
    {
     "data": {
      "image/png": "[encoded data removed]",
      "text/latex": [
       "$\\displaystyle \\left\\{ R_{1} : \\frac{625.0 R_{2} \\left(b^{2} + 2.0 b + 1.0\\right)}{R_{2} b - 625.0 b - 625.0}\\right\\}$"
      ],
      "text/plain": [
       "⎧             ⎛ 2              ⎞⎫\n",
       "⎪    625.0⋅R₂⋅⎝b  + 2.0⋅b + 1.0⎠⎪\n",
       "⎨R₁: ───────────────────────────⎬\n",
       "⎪       R₂⋅b - 625.0⋅b - 625.0  ⎪\n",
       "⎩                               ⎭"
      ]
     },
     "metadata": {},
     "output_type": "display_data"
    },
    {
     "data": {
      "application/vnd.jupyter.widget-view+json": {
       "model_id": "a69937f357c84e849b25113f05a4836a",
       "version_major": 2,
       "version_minor": 0
      },
      "text/plain": [
       "Canvas(toolbar=Toolbar(toolitems=[('Home', 'Reset original view', 'home', 'home'), ('Back', 'Back to previous …"
      ]
     },
     "metadata": {},
     "output_type": "display_data"
    },
    {
     "data": {
      "application/vnd.jupyter.widget-view+json": {
       "model_id": "4d5fb5b6c0be4706b2b240b1bd902380",
       "version_major": 2,
       "version_minor": 0
      },
      "text/plain": [
       "Canvas(toolbar=Toolbar(toolitems=[('Home', 'Reset original view', 'home', 'home'), ('Back', 'Back to previous …"
      ]
     },
     "metadata": {},
     "output_type": "display_data"
    },
    {
     "data": {
      "text/plain": [
       "<sympy.plotting.plot.Plot at 0x7f16e36c8880>"
      ]
     },
     "execution_count": 13,
     "metadata": {},
     "output_type": "execute_result"
    }
   ],
   "source": [
    "from sympy.plotting import plot3d\n",
    "from sympy.plotting import plot3d_parametric_surface\n",
    "sym.var('R1')\n",
    "display((sym.solve([Rth-Rt],R1)))\n",
    "R1=sym.solve([Rth-Rt],R1)[R1]\n",
    "plot3d(R1, (b, -10,10),(R2, 1,100),zlabel=\"R1\",xlabel=\"b\", ylabel=\"R2\")\n",
    "plot3d_parametric_surface(R1, R2, b ,(b, -10,10),(R2, 1,100),zlabel=\"b\",xlabel=\"R1\", ylabel=\"R2\")"
   ]
  },
  {
   "cell_type": "code",
   "execution_count": null,
   "id": "eight-broadcast",
   "metadata": {},
   "outputs": [],
   "source": []
  },
  {
   "cell_type": "code",
   "execution_count": 14,
   "id": "nonprofit-phenomenon",
   "metadata": {},
   "outputs": [
    {
     "data": {
      "image/png": "[encoded data removed]",
      "text/latex": [
       "$\\displaystyle \\left\\{ Vs : \\frac{- 5.0 R_{1} - 5.0 R_{2} b - 5.0 R_{2}}{R_{2} b}\\right\\}$"
      ],
      "text/plain": [
       "⎧    -5.0⋅R₁ - 5.0⋅R₂⋅b - 5.0⋅R₂⎫\n",
       "⎨Vs: ───────────────────────────⎬\n",
       "⎩                R₂⋅b           ⎭"
      ]
     },
     "metadata": {},
     "output_type": "display_data"
    },
    {
     "data": {
      "image/png": "[encoded data removed]",
      "text/latex": [
       "$\\displaystyle \\frac{625.0 R_{2} \\left(b^{2} + 2.0 b + 1.0\\right)}{R_{2} b - 625.0 b - 625.0}$"
      ],
      "text/plain": [
       "         ⎛ 2              ⎞\n",
       "625.0⋅R₂⋅⎝b  + 2.0⋅b + 1.0⎠\n",
       "───────────────────────────\n",
       "   R₂⋅b - 625.0⋅b - 625.0  "
      ]
     },
     "metadata": {},
     "output_type": "display_data"
    },
    {
     "data": {
      "application/vnd.jupyter.widget-view+json": {
       "model_id": "fad6ca49fce545a483575a3c23c314a1",
       "version_major": 2,
       "version_minor": 0
      },
      "text/plain": [
       "Canvas(toolbar=Toolbar(toolitems=[('Home', 'Reset original view', 'home', 'home'), ('Back', 'Back to previous …"
      ]
     },
     "metadata": {},
     "output_type": "display_data"
    },
    {
     "data": {
      "application/vnd.jupyter.widget-view+json": {
       "model_id": "2529586c53e84fbb9b872c87d8645fcf",
       "version_major": 2,
       "version_minor": 0
      },
      "text/plain": [
       "Canvas(toolbar=Toolbar(toolitems=[('Home', 'Reset original view', 'home', 'home'), ('Back', 'Back to previous …"
      ]
     },
     "metadata": {},
     "output_type": "display_data"
    },
    {
     "data": {
      "text/plain": [
       "<sympy.plotting.plot.Plot at 0x7f16e3572880>"
      ]
     },
     "execution_count": 14,
     "metadata": {},
     "output_type": "execute_result"
    }
   ],
   "source": [
    "sym.var('Vs, R1')\n",
    "display((sym.solve([Vth-Vt],Vs)))\n",
    "Vs=sym.solve([Vth-Vt],Vs)[Vs]\n",
    "RR1=sym.solve([Rth-Rt],R1)[R1]\n",
    "display(RR1)\n",
    "plot3d(Vs.subs(R1,RR1), (b, -10,10),(R2, 1,100),zlabel=\"Vs\",xlabel=\"b\", ylabel=\"R2\")\n",
    "plot3d_parametric_surface(Vs.subs(R1,RR1), R2, b ,(b, -10,10),(R2, 1,100),zlabel=\"b\",xlabel=\"Vs\", ylabel=\"R2\")\n"
   ]
  },
  {
   "cell_type": "code",
   "execution_count": null,
   "id": "adjacent-tokyo",
   "metadata": {},
   "outputs": [],
   "source": []
  }
 ],
 "metadata": {
  "kernelspec": {
   "display_name": "Python 3",
   "language": "python",
   "name": "python3"
  },
  "language_info": {
   "codemirror_mode": {
    "name": "ipython",
    "version": 3
   },
   "file_extension": ".py",
   "mimetype": "text/x-python",
   "name": "python",
   "nbconvert_exporter": "python",
   "pygments_lexer": "ipython3",
   "version": "3.8.2"
  }
 },
 "nbformat": 4,
 "nbformat_minor": 5
}
